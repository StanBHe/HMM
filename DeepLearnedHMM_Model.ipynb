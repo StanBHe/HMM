{
 "cells": [
  {
   "cell_type": "code",
   "execution_count": 3858,
   "metadata": {},
   "outputs": [],
   "source": [
    "import numpy as np\n",
    "import tensorflow as tf"
   ]
  },
  {
   "cell_type": "code",
   "execution_count": 3859,
   "metadata": {},
   "outputs": [],
   "source": [
    "npztarg = np.load('malware_data_train.npz')\n",
    "\n",
    "train_inputs = npztarg['inputs'].astype(np.float)\n",
    "train_targets = npztarg['targets'].astype(np.int)\n",
    "\n",
    "npzvalid = np.load('malware_data_validation.npz')\n",
    "validation_inputs,validation_targets = npzvalid['inputs'].astype(np.float), npzvalid['targets'].astype(np.int)\n",
    "\n",
    "npztest = np.load('malware_data_test.npz')\n",
    "test_inputs,test_targets = npztest['inputs'].astype(np.float), npztest['targets'].astype(np.int)"
   ]
  },
  {
   "cell_type": "code",
   "execution_count": 3860,
   "metadata": {},
   "outputs": [],
   "source": [
    "early_stopping = tf.keras.callbacks.EarlyStopping(patience=2)"
   ]
  },
  {
   "cell_type": "code",
   "execution_count": 3861,
   "metadata": {},
   "outputs": [],
   "source": [
    "hidden_layer_size =400\n",
    "output_size = 3\n",
    "BATCH_SIZE = 20\n",
    "model = tf.keras.Sequential([\n",
    "                            tf.keras.layers.Dense(hidden_layer_size, activation='relu'),\n",
    "                            tf.keras.layers.Dense(hidden_layer_size, activation='relu'),\n",
    "                            tf.keras.layers.Dense(hidden_layer_size, activation='relu'),\n",
    "                            tf.keras.layers.Dense(hidden_layer_size, activation='relu'),\n",
    "                            tf.keras.layers.Dense(output_size, activation='softmax')   \n",
    "                            ])"
   ]
  },
  {
   "cell_type": "code",
   "execution_count": 3862,
   "metadata": {},
   "outputs": [],
   "source": [
    "model.compile(optimizer='adam', loss='sparse_categorical_crossentropy', metrics=['accuracy'])"
   ]
  },
  {
   "cell_type": "code",
   "execution_count": 3863,
   "metadata": {},
   "outputs": [
    {
     "name": "stdout",
     "output_type": "stream",
     "text": [
      "Epoch 1/10\n",
      "132/132 - 1s - loss: 0.2198 - accuracy: 0.9397 - val_loss: 0.2438 - val_accuracy: 0.9400\n",
      "Epoch 2/10\n",
      "132/132 - 1s - loss: 0.0594 - accuracy: 0.9867 - val_loss: 0.2744 - val_accuracy: 0.9500\n",
      "Epoch 3/10\n",
      "132/132 - 1s - loss: 0.0371 - accuracy: 0.9901 - val_loss: 0.5064 - val_accuracy: 0.9450\n"
     ]
    },
    {
     "data": {
      "text/plain": [
       "<tensorflow.python.keras.callbacks.History at 0x1612c46dfc8>"
      ]
     },
     "execution_count": 3863,
     "metadata": {},
     "output_type": "execute_result"
    }
   ],
   "source": [
    "model.fit(train_inputs, train_targets, \n",
    "          batch_size=BATCH_SIZE, \n",
    "          epochs=10, callbacks=[early_stopping], \n",
    "          validation_data=(validation_inputs,validation_targets), \n",
    "          validation_steps=10, \n",
    "          verbose = 2 )"
   ]
  },
  {
   "cell_type": "code",
   "execution_count": 3864,
   "metadata": {},
   "outputs": [
    {
     "name": "stdout",
     "output_type": "stream",
     "text": [
      "11/11 [==============================] - 0s 2ms/step - loss: 0.1948 - accuracy: 0.9727\n"
     ]
    }
   ],
   "source": [
    "test_loss, test_accuracy = model.evaluate(test_inputs,test_targets)"
   ]
  },
  {
   "cell_type": "code",
   "execution_count": 3865,
   "metadata": {},
   "outputs": [
    {
     "name": "stdout",
     "output_type": "stream",
     "text": [
      "Test loss: 0.19. Test accuracy: 97.27%\n"
     ]
    }
   ],
   "source": [
    "print('Test loss: {0:.2f}. Test accuracy: {1:.2f}%'.format(test_loss, test_accuracy*100.))"
   ]
  },
  {
   "cell_type": "code",
   "execution_count": null,
   "metadata": {},
   "outputs": [],
   "source": []
  }
 ],
 "metadata": {
  "kernelspec": {
   "display_name": "Python3-TensorFlow2",
   "language": "python",
   "name": "python3-tensorflow2"
  },
  "language_info": {
   "codemirror_mode": {
    "name": "ipython",
    "version": 3
   },
   "file_extension": ".py",
   "mimetype": "text/x-python",
   "name": "python",
   "nbconvert_exporter": "python",
   "pygments_lexer": "ipython3",
   "version": "3.7.9"
  }
 },
 "nbformat": 4,
 "nbformat_minor": 4
}
