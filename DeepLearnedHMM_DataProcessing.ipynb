{
 "cells": [
  {
   "cell_type": "code",
   "execution_count": 174,
   "metadata": {},
   "outputs": [],
   "source": [
    "import numpy as np\n",
    "from sklearn import preprocessing\n",
    "import pandas as pd \n",
    "\n",
    "#Running this produces weird results where extra values are appended to the entries, often as an extra decimal\n",
    "#or turning a 0 to .1,.2,.3,......and so on\n",
    "#modelData = pd.read_csv(\"trainData.txt\", float_precision='round_trip') \n",
    "\n",
    "# store csv file \n",
    "#modelData.to_csv('trainData.csv',  index = None) "
   ]
  },
  {
   "cell_type": "code",
   "execution_count": 175,
   "metadata": {
    "scrolled": true
   },
   "outputs": [
    {
     "name": "stdout",
     "output_type": "stream",
     "text": [
      "[[1.39414e-001 2.90678e-002 8.22014e-002 ... 0.00000e+000 0.00000e+000\n",
      "  8.64451e-003]\n",
      " [9.99959e-001 4.67000e-017 5.83693e-001 ... 0.00000e+000 0.00000e+000\n",
      "  1.21000e-166]\n",
      " [1.00000e+000 5.29000e-016 8.15755e-001 ... 0.00000e+000 0.00000e+000\n",
      "  2.06787e-003]\n",
      " ...\n",
      " [9.16536e-002 1.66662e-002 1.97418e-001 ... 9.66000e-035 0.00000e+000\n",
      "  2.87553e-002]\n",
      " [2.25913e-001 9.16064e-004 3.64000e-006 ... 0.00000e+000 0.00000e+000\n",
      "  8.37645e-002]\n",
      " [5.56285e-002 9.01069e-001 1.20695e-001 ... 0.00000e+000 0.00000e+000\n",
      "  1.58138e-002]]\n",
      "[0. 0. 0. ... 2. 2. 2.]\n"
     ]
    }
   ],
   "source": [
    "raw_csv_data = np.loadtxt('trainData.csv',delimiter=',')\n",
    "unscaled_inputs_all = raw_csv_data[:,1:-1]\n",
    "print(unscaled_inputs_all)\n",
    "targets_all = raw_csv_data[:,-1]\n",
    "print(targets_all)"
   ]
  },
  {
   "cell_type": "code",
   "execution_count": 176,
   "metadata": {},
   "outputs": [],
   "source": [
    "scaled_inputs = preprocessing.scale(unscaled_inputs_all)"
   ]
  },
  {
   "cell_type": "code",
   "execution_count": 177,
   "metadata": {},
   "outputs": [],
   "source": [
    "shuffled_indices = np.arange(scaled_inputs.shape[0])\n",
    "np.random.shuffle(shuffled_indices)\n",
    "\n",
    "shuffled_inputs = scaled_inputs[shuffled_indices]\n",
    "shuffled_targets = targets_all[shuffled_indices]"
   ]
  },
  {
   "cell_type": "code",
   "execution_count": 178,
   "metadata": {},
   "outputs": [
    {
     "name": "stdout",
     "output_type": "stream",
     "text": [
      "2630.0 2635 0.9981024667931688\n",
      "328.0 329 0.9969604863221885\n",
      "336.0 330 1.018181818181818\n"
     ]
    }
   ],
   "source": [
    "samples_count = shuffled_inputs.shape[0]\n",
    "train_samples_count = int(0.8 * samples_count)\n",
    "validation_samples_count = int(0.1 * samples_count)\n",
    "\n",
    "test_samples_count = samples_count - train_samples_count - validation_samples_count\n",
    "\n",
    "train_inputs = shuffled_inputs[:train_samples_count]\n",
    "train_targets = shuffled_targets[:train_samples_count]\n",
    "\n",
    "validation_inputs = shuffled_inputs[train_samples_count:train_samples_count + validation_samples_count]\n",
    "validation_targets = shuffled_targets[train_samples_count:train_samples_count + validation_samples_count]\n",
    "\n",
    "test_inputs = shuffled_inputs[train_samples_count + validation_samples_count:]\n",
    "test_targets = shuffled_targets[train_samples_count + validation_samples_count:]\n",
    "\n",
    "print(np.sum(train_targets), train_samples_count, np.sum(train_targets) / train_samples_count)\n",
    "print(np.sum(validation_targets), validation_samples_count, np.sum(validation_targets)/validation_samples_count)\n",
    "print(np.sum(test_targets), test_samples_count, np.sum(test_targets)/test_samples_count)"
   ]
  },
  {
   "cell_type": "code",
   "execution_count": 179,
   "metadata": {},
   "outputs": [],
   "source": [
    "np.savez('malware_data_train', inputs=train_inputs,targets=train_targets)\n",
    "np.savez('malware_data_validation', inputs=validation_inputs,targets=validation_targets)\n",
    "np.savez('malware_data_test', inputs=test_inputs,targets=test_targets)"
   ]
  }
 ],
 "metadata": {
  "kernelspec": {
   "display_name": "Python3-TensorFlow2",
   "language": "python",
   "name": "python3-tensorflow2"
  },
  "language_info": {
   "codemirror_mode": {
    "name": "ipython",
    "version": 3
   },
   "file_extension": ".py",
   "mimetype": "text/x-python",
   "name": "python",
   "nbconvert_exporter": "python",
   "pygments_lexer": "ipython3",
   "version": "3.7.9"
  }
 },
 "nbformat": 4,
 "nbformat_minor": 4
}
